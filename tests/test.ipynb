{
 "cells": [
  {
   "cell_type": "code",
   "execution_count": 2,
   "metadata": {},
   "outputs": [
    {
     "name": "stdout",
     "output_type": "stream",
     "text": [
      "TEST\n",
      "{'index': ('id', 'date_time')}\n",
      "TEST\n",
      "{'index': ('id', 'date_time')}\n",
      "{<function TestClass.test at 0x7f40a22e9040>: 123, <function test at 0x7f40a22e90d0>: 123, <function TestClass.test at 0x7f40a22e9280>: {'index': ('id', 'date_time')}, <function test at 0x7f40e4206c10>: 123}\n",
      "{<function TestClass.test at 0x7f40a22e9040>: 123, <function test at 0x7f40a22e90d0>: 123, <function TestClass.test at 0x7f40a22e9280>: 123, <function test at 0x7f40e4206c10>: 123}\n"
     ]
    }
   ],
   "source": [
    "import os\n",
    "import sys\n",
    "from pprint import pprint\n",
    "import json\n",
    "from notation.notation import Notation\n",
    "import logging\n",
    "import pandas as pd\n",
    "\n",
    "notation = Notation()\n",
    "\n",
    "class TestClass:\n",
    "    \n",
    "    @notation(index=('id', 'date_time'))\n",
    "    def test(self):\n",
    "        return 'TEST'\n",
    "\n",
    "testClass = TestClass()\n",
    "\n",
    "print(testClass.test())\n",
    "\n",
    "print(notation[TestClass.test])\n",
    "\n",
    "@notation(index=('id', 'date_time'))\n",
    "def test():\n",
    "    return 'TEST'\n",
    "\n",
    "print(test())\n",
    "\n",
    "print(notation[test])\n",
    "\n",
    "notation[test] = (123)\n",
    "\n",
    "print(notation)\n",
    "\n",
    "notation[TestClass.test] = (123)\n",
    "\n",
    "print(notation)"
   ]
  },
  {
   "cell_type": "code",
   "execution_count": 3,
   "metadata": {},
   "outputs": [
    {
     "data": {
      "text/plain": [
       "Notation(annotation={<function TestClass.test at 0x7f40a22e9040>: 123, <function test at 0x7f40a22e90d0>: 123, <function TestClass.test at 0x7f40a22e9280>: 123, <function test at 0x7f40e4206c10>: 123})"
      ]
     },
     "execution_count": 3,
     "metadata": {},
     "output_type": "execute_result"
    }
   ],
   "source": [
    "notation"
   ]
  }
 ],
 "metadata": {
  "kernelspec": {
   "display_name": "Python 3.9.15 ('python-3.9': conda)",
   "language": "python",
   "name": "python3"
  },
  "language_info": {
   "codemirror_mode": {
    "name": "ipython",
    "version": 3
   },
   "file_extension": ".py",
   "mimetype": "text/x-python",
   "name": "python",
   "nbconvert_exporter": "python",
   "pygments_lexer": "ipython3",
   "version": "3.9.16"
  },
  "orig_nbformat": 4,
  "vscode": {
   "interpreter": {
    "hash": "dbe85667dd15df860125a42315fe0131ecfe115361c05d68f48a49224bbf16c7"
   }
  }
 },
 "nbformat": 4,
 "nbformat_minor": 2
}
