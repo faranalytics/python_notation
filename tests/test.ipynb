{
 "cells": [
  {
   "cell_type": "code",
   "execution_count": 4,
   "metadata": {},
   "outputs": [
    {
     "name": "stdout",
     "output_type": "stream",
     "text": [
      "decorator function <function Notation.__call__.<locals>.decorator at 0x7f9954c2a700>\n",
      "function argument <function TestClass.test at 0x7f9954c2a5e0>\n",
      "TEST\n",
      "{'index': ('id', 'date_time')}\n",
      "decorator function <function Notation.__call__.<locals>.decorator at 0x7f9954c2a670>\n",
      "function argument <function test at 0x7f9954c2a0d0>\n",
      "wrapper <function test at 0x7f9954c2a0d0>\n",
      "TEST\n",
      "cache {<function test at 0x7f9954c2a0d0>: {((123,), ()): 'TEST'}}\n",
      "notation {<function test at 0x7f9954c2a550>: {'index': ('id', 'date_time')}, <function TestClass.test at 0x7f9954c2a5e0>: {'index': ('id', 'date_time')}, <function test at 0x7f9954c2a0d0>: {'index': ('id', 'date_time')}}\n",
      "<function test at 0x7f9954c2a0d0>\n"
     ]
    }
   ],
   "source": [
    "import os\n",
    "import sys\n",
    "from pprint import pprint\n",
    "import json\n",
    "from notation.notation import Notation\n",
    "import logging\n",
    "import pandas as pd\n",
    "from memoiz.cache import Cache\n",
    "\n",
    "cache = Cache()\n",
    "\n",
    "notation = Notation()\n",
    "\n",
    "class TestClass:\n",
    "    \n",
    "    @notation(index=('id', 'date_time'))\n",
    "    def test(self):\n",
    "        return 'TEST'\n",
    "\n",
    "testClass = TestClass()\n",
    "\n",
    "print(testClass.test())\n",
    "\n",
    "print(notation[TestClass.test])\n",
    "\n",
    "@notation(index=('id', 'date_time'))\n",
    "@cache\n",
    "def test(test=123):\n",
    "    return 'TEST'\n",
    "\n",
    "print(test(123))\n",
    "\n",
    "print('cache', cache._cache)\n",
    "\n",
    "print('notation', notation)\n",
    "\n",
    "print(test)"
   ]
  }
 ],
 "metadata": {
  "kernelspec": {
   "display_name": "Python 3.9.15 ('python-3.9': conda)",
   "language": "python",
   "name": "python3"
  },
  "language_info": {
   "codemirror_mode": {
    "name": "ipython",
    "version": 3
   },
   "file_extension": ".py",
   "mimetype": "text/x-python",
   "name": "python",
   "nbconvert_exporter": "python",
   "pygments_lexer": "ipython3",
   "version": "3.9.16"
  },
  "orig_nbformat": 4,
  "vscode": {
   "interpreter": {
    "hash": "dbe85667dd15df860125a42315fe0131ecfe115361c05d68f48a49224bbf16c7"
   }
  }
 },
 "nbformat": 4,
 "nbformat_minor": 2
}
